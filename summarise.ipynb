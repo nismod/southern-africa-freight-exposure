{
 "cells": [
  {
   "cell_type": "code",
   "execution_count": null,
   "id": "049ea068",
   "metadata": {},
   "outputs": [],
   "source": [
    "import geopandas\n",
    "import pandas\n",
    "from pyproj import Geod"
   ]
  },
  {
   "cell_type": "code",
   "execution_count": null,
   "id": "adb0963e",
   "metadata": {},
   "outputs": [],
   "source": [
    "hazard = \"heat\"\n",
    "extract_regex = \"epoch:(?P<epoch>[^|]*)\\|hazard:(?P<hazard>[^|]*)\\|quantile:(?P<quantile>[^|]*)\\|ssp:(?P<ssp>[^|]*)\"\n",
    "extract_colnames = [\"epoch\", \"quantile\", \"ssp\"]\n",
    "threshold = 1"
   ]
  },
  {
   "cell_type": "code",
   "execution_count": null,
   "id": "9dd7885b",
   "metadata": {},
   "outputs": [],
   "source": [
    "geod = Geod(ellps=\"WGS84\")"
   ]
  },
  {
   "cell_type": "code",
   "execution_count": null,
   "id": "120615ea",
   "metadata": {},
   "outputs": [],
   "source": [
    "wide_df = geopandas.read_parquet(f\"exposure/Supply network_link.{hazard}.parquet\")\n",
    "wide_df[\"length_m\"] = wide_df.geometry.apply(geod.geometry_length).astype(\"int\")"
   ]
  },
  {
   "cell_type": "code",
   "execution_count": null,
   "id": "aba06492",
   "metadata": {},
   "outputs": [],
   "source": [
    "datacols = [c for c in wide_df.columns if \":\" in c]\n",
    "keepcols = [\n",
    "    \"NO\",\n",
    "    \"FROMNODENO\",\n",
    "    \"TONODENO\",\n",
    "    \"split\",\n",
    "    \"length_m\",\n",
    "]\n",
    "melted = wide_df.melt(id_vars=keepcols, value_vars=datacols)\n",
    "hazard_params = melted.variable.str.extract(extract_regex)\n",
    "\n",
    "long_df = (\n",
    "    pandas.concat([melted, hazard_params], axis=1)\n",
    "    .drop(\"variable\", axis=1)\n",
    "    .query(\"value > 0\")\n",
    ")"
   ]
  },
  {
   "cell_type": "code",
   "execution_count": null,
   "id": "0a9ac870",
   "metadata": {},
   "outputs": [],
   "source": [
    "indexcols = keepcols + extract_colnames\n",
    "long_neat = long_df.pivot(\n",
    "    index=indexcols,\n",
    "    columns=\"hazard\",\n",
    "    values=\"value\",\n",
    ").fillna(0)"
   ]
  },
  {
   "cell_type": "code",
   "execution_count": null,
   "id": "0ffb6ddd",
   "metadata": {},
   "outputs": [],
   "source": [
    "long_neat.to_csv(f\"exposure/Supply network_link.{hazard}.csv\")"
   ]
  },
  {
   "cell_type": "markdown",
   "id": "7aaabd2e",
   "metadata": {},
   "source": [
    "# Summarise"
   ]
  },
  {
   "cell_type": "code",
   "execution_count": null,
   "id": "af55c7a3",
   "metadata": {},
   "outputs": [],
   "source": [
    "lookup = wide_df[['NO', 'geometry']].drop_duplicates(subset='NO')"
   ]
  },
  {
   "cell_type": "code",
   "execution_count": null,
   "id": "eb0136ad",
   "metadata": {},
   "outputs": [],
   "source": [
    "adm1 = geopandas.read_file(\"gadm.gpkg\")"
   ]
  },
  {
   "cell_type": "code",
   "execution_count": null,
   "id": "f3f627fe",
   "metadata": {},
   "outputs": [],
   "source": [
    "lookup_adm1 = geopandas.sjoin(lookup, adm1, how=\"left\", predicate=\"intersects\")[\n",
    "    [\"GID_0\", \"NAME_0\", \"GID_1\", \"NAME_1\", \"NO\"]\n",
    "]\n",
    "lookup_adm1.head()"
   ]
  },
  {
   "cell_type": "code",
   "execution_count": null,
   "id": "ee02e748",
   "metadata": {},
   "outputs": [],
   "source": [
    "lookup_adm1.set_index(\"NO\", inplace=True)"
   ]
  },
  {
   "cell_type": "code",
   "execution_count": null,
   "id": "eb45c96f",
   "metadata": {},
   "outputs": [],
   "source": [
    "above_threshold_df = long_df.query(f\"value > {threshold}\")"
   ]
  },
  {
   "cell_type": "code",
   "execution_count": null,
   "id": "433c44df",
   "metadata": {},
   "outputs": [],
   "source": [
    "above_threshold_df = above_threshold_df.set_index(\"NO\").join(lookup_adm1, how=\"left\")"
   ]
  },
  {
   "cell_type": "code",
   "execution_count": null,
   "id": "c3260d29",
   "metadata": {},
   "outputs": [],
   "source": [
    "above_threshold_df.head()"
   ]
  },
  {
   "cell_type": "code",
   "execution_count": null,
   "id": "35b001c6",
   "metadata": {},
   "outputs": [],
   "source": [
    "indexcols_summary = [\n",
    "    \"NO\",\n",
    "    \"FROMNODENO\",\n",
    "    \"TONODENO\",\n",
    "    \"split\",\n",
    "    \"GID_0\",\n",
    "    \"NAME_0\",\n",
    "    \"GID_1\",\n",
    "    \"NAME_1\",\n",
    "] + extract_colnames\n",
    "\n",
    "above_threshold_df_neat = above_threshold_df.reset_index().pivot(\n",
    "    index=indexcols_summary,\n",
    "    columns=\"hazard\",\n",
    "    values=\"length_m\",\n",
    ").fillna(0)\n",
    "above_threshold_df_neat.head()"
   ]
  },
  {
   "cell_type": "code",
   "execution_count": null,
   "id": "94da33df",
   "metadata": {},
   "outputs": [],
   "source": [
    "groupby_cols = [\n",
    "    \"GID_0\",\n",
    "    \"NAME_0\",\n",
    "    \"GID_1\",\n",
    "    \"NAME_1\",\n",
    "] + extract_colnames\n",
    "summary = (\n",
    "    above_threshold_df_neat\n",
    "    .reset_index()\n",
    "    .drop(columns=[\"NO\", \"FROMNODENO\", \"TONODENO\", \"split\"])\n",
    "    .groupby(groupby_cols)\n",
    "    .sum()\n",
    ")\n",
    "summary"
   ]
  },
  {
   "cell_type": "code",
   "execution_count": null,
   "id": "a0307e66",
   "metadata": {},
   "outputs": [],
   "source": [
    "summary.to_csv(f\"exposure/admin1.{hazard}.csv\")"
   ]
  },
  {
   "cell_type": "code",
   "execution_count": null,
   "id": "cf0b7d5a",
   "metadata": {},
   "outputs": [],
   "source": [
    "summary_wide = (\n",
    "    summary\n",
    "    .reset_index()\n",
    "    .pivot(\n",
    "        index=[\n",
    "            \"GID_0\",\n",
    "            \"NAME_0\",\n",
    "            \"GID_1\",\n",
    "            \"NAME_1\",\n",
    "        ],\n",
    "        columns=extract_colnames,\n",
    "    )\n",
    "    .reset_index()\n",
    "    .set_index(\"GID_1\")\n",
    ")\n",
    "summary_wide"
   ]
  },
  {
   "cell_type": "code",
   "execution_count": null,
   "id": "b10345f3",
   "metadata": {},
   "outputs": [],
   "source": [
    "newcols = []\n",
    "for c in summary_wide.columns:\n",
    "    parts = [p for p in c if p != '']\n",
    "    newcols.append(\"_\".join(parts))\n",
    "summary_wide.columns = newcols"
   ]
  },
  {
   "cell_type": "code",
   "execution_count": null,
   "id": "5ecb347d",
   "metadata": {},
   "outputs": [],
   "source": [
    "summary_gdf = adm1.set_index(\"GID_1\").join(summary_wide.drop(columns=['GID_0', 'NAME_0', 'NAME_1'])).fillna(0)\n",
    "summary_gdf.head()"
   ]
  },
  {
   "cell_type": "code",
   "execution_count": null,
   "id": "2e75b2a5",
   "metadata": {},
   "outputs": [],
   "source": [
    "summary_gdf.to_file(f\"exposure/admin1.{hazard}.gpkg\")"
   ]
  }
 ],
 "metadata": {
  "kernelspec": {
   "display_name": "Python 3 (ipykernel)",
   "language": "python",
   "name": "python3"
  },
  "language_info": {
   "codemirror_mode": {
    "name": "ipython",
    "version": 3
   },
   "file_extension": ".py",
   "mimetype": "text/x-python",
   "name": "python",
   "nbconvert_exporter": "python",
   "pygments_lexer": "ipython3",
   "version": "3.11.0"
  }
 },
 "nbformat": 4,
 "nbformat_minor": 5
}
