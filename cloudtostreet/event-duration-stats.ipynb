{
 "cells": [
  {
   "cell_type": "code",
   "execution_count": null,
   "id": "8307dc25",
   "metadata": {},
   "outputs": [],
   "source": [
    "import glob\n",
    "import pandas"
   ]
  },
  {
   "cell_type": "code",
   "execution_count": null,
   "id": "0e12fa8e",
   "metadata": {},
   "outputs": [],
   "source": [
    "glob.glob(\"*.csv\")"
   ]
  },
  {
   "cell_type": "code",
   "execution_count": null,
   "id": "8d5ca827",
   "metadata": {},
   "outputs": [],
   "source": [
    "events = pandas.read_csv(\n",
    "    'gfd_event_stats_20215_13_error_fixed_2.csv', \n",
    "    parse_dates=['dfo_began', 'dfo_ended'], \n",
    "    dayfirst=False,\n",
    "    usecols=[\"system:index\",'dfo_began', 'dfo_ended', 'dfo_cause']\n",
    ").set_index(\"system:index\")\n",
    "events['duration_days'] = (events.dfo_ended - events.dfo_began).astype('timedelta64[D]').astype('int')\n",
    "events['year'] = pandas.DatetimeIndex(events.dfo_began).year"
   ]
  },
  {
   "cell_type": "code",
   "execution_count": null,
   "id": "768e5af9",
   "metadata": {},
   "outputs": [],
   "source": [
    "country_events = pandas.read_csv('country_events.csv').set_index('DFO').join(events)\n",
    "country_events.head()"
   ]
  },
  {
   "cell_type": "code",
   "execution_count": null,
   "id": "d7646b2a",
   "metadata": {},
   "outputs": [],
   "source": [
    "annual_disruption = country_events.groupby([\"ISO_A3\", \"dfo_cause\", \"year\"]).sum(numeric_only=True).reset_index()"
   ]
  },
  {
   "cell_type": "code",
   "execution_count": null,
   "id": "0c25e669",
   "metadata": {},
   "outputs": [],
   "source": [
    "full_combo = []\n",
    "from itertools import product\n",
    "for iso, cause, year in product(\n",
    "    annual_disruption.ISO_A3.unique(), annual_disruption.dfo_cause.unique(), range(2000, 2019)):\n",
    "    full_combo.append({\n",
    "        'ISO_A3': iso,\n",
    "        'dfo_cause': cause,\n",
    "        'year': year\n",
    "    })\n",
    "full_combo = pandas.DataFrame(full_combo)\n",
    "full_combo"
   ]
  },
  {
   "cell_type": "code",
   "execution_count": null,
   "id": "e9dc07a8",
   "metadata": {},
   "outputs": [],
   "source": [
    "all_years_durations = full_combo.merge(annual_disruption, on=[\"ISO_A3\",\"dfo_cause\",\"year\"], how='left').fillna(0)"
   ]
  },
  {
   "cell_type": "code",
   "execution_count": null,
   "id": "f6abe89a",
   "metadata": {},
   "outputs": [],
   "source": [
    "def p10(x):\n",
    "    return x.quantile(0.1)\n",
    "\n",
    "def p90(x):\n",
    "    return x.quantile(0.9)"
   ]
  },
  {
   "cell_type": "code",
   "execution_count": null,
   "id": "7e0f158e",
   "metadata": {},
   "outputs": [],
   "source": [
    "event_summary = (\n",
    "    country_events\n",
    "    .groupby([\"ISO_A3\", \"dfo_cause\"])\n",
    "    ['duration_days']\n",
    "    .agg(['min', p10, 'median', 'mean', p90, 'max', 'count'])\n",
    ")\n",
    "event_summary.to_csv(\"country_event_durations.csv\")\n",
    "\n",
    "annual_summary = (\n",
    "    all_years_durations\n",
    "    .groupby([\"ISO_A3\", \"dfo_cause\"])\n",
    "    ['duration_days']\n",
    "    .agg(['min', p10, 'median', 'mean', p90, 'max', 'count'])\n",
    ")\n",
    "annual_summary.to_csv(\"country_annual_durations.csv\")"
   ]
  }
 ],
 "metadata": {
  "kernelspec": {
   "display_name": "Python 3 (ipykernel)",
   "language": "python",
   "name": "python3"
  },
  "language_info": {
   "codemirror_mode": {
    "name": "ipython",
    "version": 3
   },
   "file_extension": ".py",
   "mimetype": "text/x-python",
   "name": "python",
   "nbconvert_exporter": "python",
   "pygments_lexer": "ipython3",
   "version": "3.11.0"
  }
 },
 "nbformat": 4,
 "nbformat_minor": 5
}
